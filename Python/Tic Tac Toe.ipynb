{
 "cells": [
  {
   "cell_type": "code",
   "execution_count": 1,
   "metadata": {},
   "outputs": [],
   "source": [
    "board= [\" \",\" \",\" \",\" \",\" \",\" \",\" \",\" \",\" \"]"
   ]
  },
  {
   "cell_type": "code",
   "execution_count": 2,
   "metadata": {},
   "outputs": [],
   "source": [
    "from IPython.display import clear_output\n",
    "def display_game(board):\n",
    "    clear_output()\n",
    "    print(f\" {board[0]} | {board[1]} | {board[2]} \")\n",
    "    print(\"-----------\")\n",
    "    print(f\" {board[3]} | {board[4]} | {board[5]} \")\n",
    "    print(\"-----------\")\n",
    "    print(f\" {board[6]} | {board[7]} | {board[8]} \")"
   ]
  },
  {
   "cell_type": "code",
   "execution_count": 3,
   "metadata": {},
   "outputs": [],
   "source": [
    "player={'Player1':'','Player2':''}"
   ]
  },
  {
   "cell_type": "code",
   "execution_count": 4,
   "metadata": {},
   "outputs": [],
   "source": [
    "def player_input(player):\n",
    "    symbol = ''\n",
    "    while symbol not in ['X','O']:\n",
    "        symbol = input(\"Player1: Enter the symbol You will use X or O: \")\n",
    "        if symbol =='X':\n",
    "            player['Player1']='X'\n",
    "            player['Player2']='O'\n",
    "        elif symbol=='O':\n",
    "            player['Player1']='O'\n",
    "            player['Player2']='X'\n",
    "        else:\n",
    "            print(\"Sorry, Wrong Symbol!!\")\n",
    "    return player"
   ]
  },
  {
   "cell_type": "code",
   "execution_count": 5,
   "metadata": {},
   "outputs": [],
   "source": [
    "def player_position(board,turn):\n",
    "    position=0\n",
    "    while position not in [1,2,3,4,5,6,7,8,9] or not blank_check(board,position):\n",
    "        position = int(input(\"Enter the position(1-9): \"))\n",
    "        if position not in [1,2,3,4,5,6,7,8,9]:\n",
    "            print(\"Sorry Wrong Position!!\")\n",
    "    board[position-1]=player[turn]\n",
    "    return board"
   ]
  },
  {
   "cell_type": "code",
   "execution_count": 6,
   "metadata": {},
   "outputs": [],
   "source": [
    "def win_check(board,mark):\n",
    "    \n",
    "    return ((board[0] == mark and board[1] == mark and board[2] == mark) or # across the top\n",
    "    (board[3] == mark and board[5] == mark and board[4] == mark) or # across the middle\n",
    "    (board[6] == mark and board[7] == mark and board[8] == mark) or # across the bottom\n",
    "    (board[0] == mark and board[3] == mark and board[6] == mark) or # down the left side\n",
    "    (board[1] == mark and board[4] == mark and board[7] == mark) or # down the middle\n",
    "    (board[2] == mark and board[5] == mark and board[8] == mark) or # down the right side\n",
    "    (board[8] == mark and board[4] == mark and board[0] == mark) or # diagonal\n",
    "    (board[6] == mark and board[4] == mark and board[2] == mark)) # diagonal"
   ]
  },
  {
   "cell_type": "code",
   "execution_count": 7,
   "metadata": {},
   "outputs": [],
   "source": [
    "def blank_check(board,position):\n",
    "    return board[position-1]==' '\n",
    "\n",
    "def full_check(board):\n",
    "    for i in range(0,9):\n",
    "        if blank_check(board,i):\n",
    "            return False\n",
    "        else:\n",
    "            return True"
   ]
  },
  {
   "cell_type": "code",
   "execution_count": 8,
   "metadata": {},
   "outputs": [],
   "source": [
    "import random\n",
    "\n",
    "def choose_first():\n",
    "    if random.randint(0,1)==0:\n",
    "        return 'Player1'\n",
    "    else:\n",
    "        return 'Player2'     "
   ]
  },
  {
   "cell_type": "code",
   "execution_count": 9,
   "metadata": {},
   "outputs": [
    {
     "name": "stdout",
     "output_type": "stream",
     "text": [
      " X |   | O \n",
      "-----------\n",
      "   | X | O \n",
      "-----------\n",
      " O | X | X \n",
      "\n",
      "player2 has won!!\n",
      "Want to play game [Y/N]: N\n"
     ]
    }
   ],
   "source": [
    "print(\"Welcome to Tic Tac Toe!!\")\n",
    "\n",
    "while True:\n",
    "    board=[\" \"]*9\n",
    "    \n",
    "    x=input(\"Want to play game [Y/N]: \")\n",
    "    if x.upper()=='Y':\n",
    "        turn = choose_first()\n",
    "        print(turn + ' will go first')\n",
    "        player_input(player)\n",
    "        game_on=True\n",
    "        \n",
    "    else:\n",
    "        game_on=False\n",
    "        break\n",
    "    \n",
    "    \n",
    "    while game_on:\n",
    "        \n",
    "        if turn=='Player1':\n",
    "            display_game(board)\n",
    "            player_position(board,turn)\n",
    "            \n",
    "            if win_check(board,player[turn]):\n",
    "                display_game(board)\n",
    "                print(\"\\nPlayer1 has won!!\")\n",
    "                game_on=False\n",
    "            else:\n",
    "                if full_check(board):\n",
    "                    display_game(board)\n",
    "                    print(\"Its a Draw!!\")\n",
    "                    break\n",
    "                else:\n",
    "                    turn='Player2'\n",
    "        else:\n",
    "            display_game(board)\n",
    "            player_position(board,turn)\n",
    "            \n",
    "            if win_check(board,player[turn]):\n",
    "                display_game(board)\n",
    "                print(\"\\nPlayer2 has won!!\")\n",
    "                game_on=False\n",
    "            else:\n",
    "                if full_check(board):\n",
    "                    display_game(board)\n",
    "                    print(\"Its a Draw!!\")\n",
    "                    break\n",
    "                else:\n",
    "                    turn='Player1'    "
   ]
  },
  {
   "cell_type": "code",
   "execution_count": null,
   "metadata": {},
   "outputs": [],
   "source": []
  }
 ],
 "metadata": {
  "kernelspec": {
   "display_name": "Python 3",
   "language": "python",
   "name": "python3"
  },
  "language_info": {
   "codemirror_mode": {
    "name": "ipython",
    "version": 3
   },
   "file_extension": ".py",
   "mimetype": "text/x-python",
   "name": "python",
   "nbconvert_exporter": "python",
   "pygments_lexer": "ipython3",
   "version": "3.8.5"
  }
 },
 "nbformat": 4,
 "nbformat_minor": 4
}
