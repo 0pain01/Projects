{
 "cells": [
  {
   "cell_type": "code",
   "execution_count": 48,
   "metadata": {},
   "outputs": [],
   "source": [
    "import speech_recognition as sr\n",
    "import os\n",
    "from gtts import gTTS\n",
    "import warnings"
   ]
  },
  {
   "cell_type": "code",
   "execution_count": 49,
   "metadata": {},
   "outputs": [],
   "source": [
    "warnings.filterwarnings('ignore')\n",
    "language=\"en\""
   ]
  },
  {
   "cell_type": "code",
   "execution_count": 50,
   "metadata": {},
   "outputs": [],
   "source": [
    "def recordAudio():\n",
    "    r = sr.Recognizer()\n",
    "    with sr.Microphone() as source:\n",
    "        print('Say Something!')\n",
    "        audio = r.listen(source)\n",
    "    \n",
    "    data = ''\n",
    "    try:\n",
    "        data = r.recognize_google(audio)\n",
    "        print(data)\n",
    "    except sr.UnknownValueError:\n",
    "        print('error')\n",
    "    except sr.RequestError as e:\n",
    "        print('error')\n",
    "    return data"
   ]
  },
  {
   "cell_type": "code",
   "execution_count": 51,
   "metadata": {},
   "outputs": [],
   "source": [
    "def exit(txt):\n",
    "    Exit_Word = ['stop']\n",
    "    txt = txt.lower()\n",
    "    for phrase in Exit_Word:\n",
    "        if phrase in txt:\n",
    "            return True \n",
    "    return False"
   ]
  },
  {
   "cell_type": "code",
   "execution_count": 52,
   "metadata": {},
   "outputs": [
    {
     "name": "stdout",
     "output_type": "stream",
     "text": [
      "Choose what to you want to access:\n",
      "1. Text to Speech\n",
      "2. Speech to Text\n",
      "Enter 1 or 2: 1\n"
     ]
    }
   ],
   "source": [
    "print(\"Choose what to you want to access:\\n1. Text to Speech\\n2. Speech to Text\")\n",
    "ch = input(\"Enter 1 or 2: \")"
   ]
  },
  {
   "cell_type": "code",
   "execution_count": 54,
   "metadata": {},
   "outputs": [
    {
     "name": "stdout",
     "output_type": "stream",
     "text": [
      "Enter the text to be coverted: my name is pankaj\n"
     ]
    }
   ],
   "source": [
    "if ch=='1':\n",
    "        txt=input(\"Enter the text to be coverted: \")\n",
    "        myobj=gTTS(text=txt,lang=language,slow=False)\n",
    "        myobj.save('audio.mp3')\n",
    "        os.system('start audio.mp3')"
   ]
  },
  {
   "cell_type": "code",
   "execution_count": null,
   "metadata": {},
   "outputs": [],
   "source": [
    "if ch=='2':\n",
    "    while True:\n",
    "        txt =recordAudio()\n",
    "        if (exit(txt)==True):\n",
    "            break"
   ]
  },
  {
   "cell_type": "code",
   "execution_count": null,
   "metadata": {},
   "outputs": [],
   "source": []
  }
 ],
 "metadata": {
  "kernelspec": {
   "display_name": "Python 3",
   "language": "python",
   "name": "python3"
  },
  "language_info": {
   "codemirror_mode": {
    "name": "ipython",
    "version": 3
   },
   "file_extension": ".py",
   "mimetype": "text/x-python",
   "name": "python",
   "nbconvert_exporter": "python",
   "pygments_lexer": "ipython3",
   "version": "3.8.3"
  }
 },
 "nbformat": 4,
 "nbformat_minor": 4
}
